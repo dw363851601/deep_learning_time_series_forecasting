{
 "cells": [
  {
   "cell_type": "markdown",
   "metadata": {},
   "source": [
    "## 17.1 Tutorial Overview\n",
    "This tutorial is divided into four parts; they are:\n",
    "1. Problem Description\n",
    "2. Load and Prepare Dataset\n",
    "3. Model Evaluation\n",
    "4. Develop Naive Forecast Models"
   ]
  },
  {
   "cell_type": "markdown",
   "metadata": {},
   "source": [
    "## 17.2 Problem Description\n",
    "The Household Power Consumption dataset is a multivariate time series dataset that describes the electricity consumption for a single household over four years. The data was collected between December 2006 and November 2010 and observations of power consumption within the household were collected every minute. It is a multivariate series comprised of seven variables\n",
    "(besides the date and time); they are:\n",
    "- global_active_power: The total active power consumed by the household (kilowatts).\n",
    "- global_reactive_power: The total reactive power consumed by the household (kilowatts). 􏰀 \n",
    "- voltage: Average voltage (volts).\n",
    "- global_intensity: Average current intensity (amps).\n",
    "- sub_metering_1: Active energy for kitchen (watt-hours of active energy).\n",
    "- sub_metering_2: Active energy for laundry (watt-hours of active energy).\n",
    "- sub_metering_3: Active energy for climate control systems (watt-hours of active energy).\n",
    "\n",
    "Active and reactive energy refer to the technical details of alternative current. A fourth sub-metering variable can be created by subtracting the sum of three defined sub-metering variables from the total active energy. "
   ]
  },
  {
   "cell_type": "markdown",
   "metadata": {},
   "source": [
    "## 17.3 Load and Prepare Dataset\n"
   ]
  },
  {
   "cell_type": "markdown",
   "metadata": {},
   "source": [
    "1. The dataset can be downloaded as a single 20 megabyte zip file. A direct download link is provided below: https://raw.githubusercontent.com/jbrownlee/Datasets/master/household_power_consumption.zip\n",
    "\n",
    "2. we can mark all missing values indicated with a ‘?’ character with a NaN value, which is a float. This will allow us to work with the data as one array of floating point values rather than mixed types (less efficient.)\n",
    "\n",
    "3. We also need to fill in the missing values now that they have been marked. A very simple approach would be to copy the observation from the same time the day before. We can implement this in a function named fill missing() that will take the NumPy array of the data and copy values from exactly 24 hours ago.\n",
    "\n",
    "4. Now we can create a new column that contains the remainder of the sub-metering, using the calculation from the previous section.\n"
   ]
  },
  {
   "cell_type": "code",
   "execution_count": 1,
   "metadata": {},
   "outputs": [],
   "source": [
    "# load and clean-up the power usage dataset\n",
    "from numpy import nan\n",
    "from numpy import isnan\n",
    "from pandas import read_csv\n",
    "\n",
    "# fill missing values with a value at the same time one day ago\n",
    "def fill_missing(values):\n",
    "\tone_day = 60 * 24\n",
    "\tfor row in range(values.shape[0]):\n",
    "\t\tfor col in range(values.shape[1]):\n",
    "\t\t\tif isnan(values[row, col]):\n",
    "\t\t\t\tvalues[row, col] = values[row - one_day, col]\n",
    "\n",
    "# load all data\n",
    "dataset = read_csv('household_power_consumption.txt', sep=';', header=0, low_memory=False, infer_datetime_format=True, parse_dates={'datetime':[0,1]}, index_col=['datetime'])\n",
    "# mark all missing values\n",
    "dataset.replace('?', nan, inplace=True)\n",
    "# make dataset numeric\n",
    "dataset = dataset.astype('float32')\n",
    "# fill missing\n",
    "fill_missing(dataset.values)\n",
    "# add a column for for the remainder of sub metering\n",
    "values = dataset.values\n",
    "dataset['sub_metering_4'] = (values[:,0] * 1000 / 60) - (values[:,4] + values[:,5] + values[:,6])\n",
    "# save updated dataset\n",
    "dataset.to_csv('household_power_consumption.csv')"
   ]
  },
  {
   "cell_type": "markdown",
   "metadata": {},
   "source": [
    "## 17.4 Model Evaluation\n",
    "In this section, we will consider how we can develop and evaluate predictive models for the household power dataset. This section is divided into four parts; they are:\n",
    "1. Problem Framing\n",
    "2. Evaluation Metric\n",
    "3. Train and Test Sets\n",
    "4. Walk-Forward Validation"
   ]
  },
  {
   "cell_type": "markdown",
   "metadata": {},
   "source": [
    "### 17.4.1 Problem Framing\n",
    "\n",
    "1. There are many ways to harness and explore the household power consumption dataset. In this tutorial, we will use the data to explore a very specific question; that is: __Given recent power consumption, what is the expected power consumption for the week ahead?__ This requires that a predictive model forecast the total active power for each day over the next seven days. Technically, this framing of the problem is referred to as a multi-step time series forecasting problem, given the multiple forecast steps. \n",
    "\n",
    "2. This framing of the dataset also suggests that it would be useful to downsample the per-minute observations of power consumption to daily totals. This is not required, but makes sense, given that we are interested in total power per day. We can achieve this easily using the __resample()__ function on the Pandas DataFrame. Calling this function with the argument __‘D’__ allows the loaded data indexed by date-time to be grouped by day (see all offset aliases). We can then calculate the sum of all observations for each day and create a new dataset of daily power consumption data for each of the eight variables. "
   ]
  },
  {
   "cell_type": "code",
   "execution_count": 2,
   "metadata": {
    "scrolled": false
   },
   "outputs": [
    {
     "name": "stdout",
     "output_type": "stream",
     "text": [
      "(1442, 8)\n",
      "            Global_active_power  Global_reactive_power    Voltage  \\\n",
      "datetime                                                            \n",
      "2006-12-16             1209.176                 34.922   93552.53   \n",
      "2006-12-17             3390.460                226.006  345725.32   \n",
      "2006-12-18             2203.826                161.792  347373.64   \n",
      "2006-12-19             1666.194                150.942  348479.01   \n",
      "2006-12-20             2225.748                160.998  348923.61   \n",
      "\n",
      "            Global_intensity  Sub_metering_1  Sub_metering_2  Sub_metering_3  \\\n",
      "datetime                                                                       \n",
      "2006-12-16            5180.8             0.0           546.0          4926.0   \n",
      "2006-12-17           14398.6          2033.0          4187.0         13341.0   \n",
      "2006-12-18            9247.2          1063.0          2621.0         14018.0   \n",
      "2006-12-19            7094.0           839.0          7602.0          6197.0   \n",
      "2006-12-20            9313.0             0.0          2648.0         14063.0   \n",
      "\n",
      "            sub_metering_4  \n",
      "datetime                    \n",
      "2006-12-16    14680.933319  \n",
      "2006-12-17    36946.666732  \n",
      "2006-12-18    19028.433281  \n",
      "2006-12-19    13131.900043  \n",
      "2006-12-20    20384.800011  \n"
     ]
    }
   ],
   "source": [
    "# resample minute data to total for each day for the power usage dataset\n",
    "from pandas import read_csv\n",
    "# load the new file\n",
    "dataset = read_csv('household_power_consumption.csv', header=0, infer_datetime_format=True, parse_dates=['datetime'], index_col=['datetime'])\n",
    "# resample data to daily\n",
    "daily_groups = dataset.resample('D')\n",
    "daily_data = daily_groups.sum()\n",
    "# summarize\n",
    "print(daily_data.shape)\n",
    "print(daily_data.head())\n",
    "# save\n",
    "daily_data.to_csv('household_power_consumption_days.csv')"
   ]
  },
  {
   "cell_type": "markdown",
   "metadata": {},
   "source": [
    "### 17.4.2 Evaluation Metric\n",
    "\n",
    "It is common with multi-step forecasting problems to evaluate each forecasted time step separately. This is helpful for a few reasons:\n",
    "- To comment on the skill at a specific lead time (e.g. +1 day vs +3 days).\n",
    "- To contrast models based on their skills at different lead times (e.g. models good at +1 day vs models good at days +5).\n",
    "\n",
    "(the same model in the different days' prediction; the different models may also perform different in the different days' prediction)\n",
    "\n",
    "__Unlike MAE, RMSE is more punishing of forecast errors.__ The performance metric for this problem will be the RMSE for each lead time from day 1 to day 7.As a short-cut, it may be useful to summarize the performance of a model using a single score in order to aide in model selection. One possible score that could be used would be the RMSE across all forecast days. "
   ]
  },
  {
   "cell_type": "markdown",
   "metadata": {},
   "source": [
    "### 17.4.3 Train and Test Sets\n",
    "\n",
    "1. We will split the data into standard weeks, working backwards from the test dataset. The final year of the data is in 2010 and the first Sunday for 2010 was January 3rd. The data ends in mid November 2010 and the closest final Saturday in the data is November 20th. This gives 46 weeks of test data.\n",
    "2. The daily data starts in late 2006. The first Sunday in the dataset is December 17th, which is the second row of data. Organizing the data into standard weeks gives 159 full standard weeks for training a predictive model."
   ]
  },
  {
   "cell_type": "code",
   "execution_count": 3,
   "metadata": {},
   "outputs": [
    {
     "name": "stdout",
     "output_type": "stream",
     "text": [
      "(159, 7, 8)\n",
      "3390.46 1309.2679999999998\n",
      "(46, 7, 8)\n",
      "2083.4539999999984 2197.006000000004\n"
     ]
    }
   ],
   "source": [
    "# split the power usage dataset into standard weeks\n",
    "from numpy import split\n",
    "from numpy import array\n",
    "from pandas import read_csv\n",
    "\n",
    "# split a univariate dataset into train/test sets\n",
    "def split_dataset(data):\n",
    "\t# split into standard weeks\n",
    "\ttrain, test = data[1:-328], data[-328:-6]\n",
    "\t# restructure into windows of weekly data\n",
    "\ttrain = array(split(train, len(train)/7))\n",
    "\ttest = array(split(test, len(test)/7))\n",
    "\treturn train, test\n",
    "\n",
    "# load the new file\n",
    "dataset = read_csv('household_power_consumption_days.csv', header=0, infer_datetime_format=True, parse_dates=['datetime'], index_col=['datetime'])\n",
    "train, test = split_dataset(dataset.values)\n",
    "# validate train data\n",
    "print(train.shape)\n",
    "print(train[0, 0, 0], train[-1, -1, 0])\n",
    "# validate test\n",
    "print(test.shape)\n",
    "print(test[0, 0, 0], test[-1, -1, 0])"
   ]
  },
  {
   "cell_type": "markdown",
   "metadata": {},
   "source": [
    "### 17.4.4 Walk-Forward Validation\n",
    "\n",
    "Models will be evaluated using a scheme called walk-forward validation. This is where a model is required to make a one week prediction, then the actual data for that week is made available to the model so that it can be used as the basis for making a prediction on the subsequent week.\n",
    "\n",
    "Input,　　　　　　　　　　　　Predict　<br>\n",
    "[Week1] 　　　　　　　　　　　Week2<br>\n",
    "[Week1 + Week2] 　　　　　　 Week3<br>\n",
    "[Week1 + Week2 + Week3] 　 Week4<br>\n",
    "．．．．．"
   ]
  },
  {
   "cell_type": "markdown",
   "metadata": {},
   "source": [
    "## 17.5 Develop Naive Forecast Models"
   ]
  },
  {
   "cell_type": "markdown",
   "metadata": {},
   "source": [
    "In this section, we will develop and compare three naive forecast methods for the household power prediction problem; they are:\n",
    "1. Daily Persistence Forecast.\n",
    "2. Weekly Persistent Forecast.\n",
    "3. Weekly One-Year-Ago Persistent Forecast."
   ]
  },
  {
   "cell_type": "markdown",
   "metadata": {},
   "source": [
    "### 17.5.1 Daily Persistence Forecast"
   ]
  },
  {
   "cell_type": "markdown",
   "metadata": {},
   "source": [
    "The first naive forecast that we will develop is a daily persistence model. This model takes the active power from the last day prior to the forecast period (e.g. Saturday) and uses it as the value of the power for each day in the forecast period (Sunday to Saturday). "
   ]
  },
  {
   "cell_type": "markdown",
   "metadata": {},
   "source": [
    "### 17.5.2 Weekly Persistent Forecast\n",
    "\n",
    "Another good naive forecast when forecasting a standard week is to use the entire prior week as the forecast for the week ahead. "
   ]
  },
  {
   "cell_type": "markdown",
   "metadata": {},
   "source": [
    "### 17.5.3 Weekly One-Year-Ago Persistent Forecast\n",
    "Similar to the idea of using last week to forecast next week is the idea of using the same week last year to predict next week. That is, use the week of observations from 52 weeks ago as the forecast, based on the idea that next week will be similar to the same week one year ago. "
   ]
  },
  {
   "cell_type": "markdown",
   "metadata": {},
   "source": [
    "### 17.5.4 Naive Model Comparison\n",
    "\n",
    "We can compare each of the forecast strategies using the test harness developed in the previous section. Each of the strategies can be stored in a dictionary against a unique name. "
   ]
  },
  {
   "cell_type": "code",
   "execution_count": 7,
   "metadata": {},
   "outputs": [
    {
     "name": "stdout",
     "output_type": "stream",
     "text": [
      "daily: [511.886] 452.9, 596.4, 532.1, 490.5, 534.3, 481.5, 482.0\n",
      "weekly: [469.389] 567.6, 500.3, 411.2, 466.1, 471.9, 358.3, 482.0\n",
      "week-oya: [465.294] 550.0, 446.7, 398.6, 487.0, 459.3, 313.5, 555.1\n"
     ]
    },
    {
     "data": {
      "image/png": "[encoded data removed]",
      "text/plain": [
       "<Figure size 432x288 with 1 Axes>"
      ]
     },
     "metadata": {
      "needs_background": "light"
     },
     "output_type": "display_data"
    }
   ],
   "source": [
    "# naive forecast strategies for the power usage dataset\n",
    "from math import sqrt\n",
    "from numpy import split\n",
    "from numpy import array\n",
    "from pandas import read_csv\n",
    "from sklearn.metrics import mean_squared_error\n",
    "from matplotlib import pyplot\n",
    "%matplotlib inline\n",
    "\n",
    "# split a univariate dataset into train/test sets\n",
    "def split_dataset(data):\n",
    "\t# split into standard weeks\n",
    "\ttrain, test = data[1:-328], data[-328:-6]\n",
    "\t# restructure into windows of weekly data\n",
    "\ttrain = array(split(train, len(train)/7))\n",
    "\ttest = array(split(test, len(test)/7))\n",
    "\treturn train, test\n",
    "\n",
    "# evaluate one or more weekly forecasts against expected values\n",
    "def evaluate_forecasts(actual, predicted):\n",
    "\tscores = list()\n",
    "\t# calculate an RMSE score for each day\n",
    "\tfor i in range(actual.shape[1]):\n",
    "\t\t# calculate mse\n",
    "\t\tmse = mean_squared_error(actual[:, i], predicted[:, i])\n",
    "\t\t# calculate rmse\n",
    "\t\trmse = sqrt(mse)\n",
    "\t\t# store\n",
    "\t\tscores.append(rmse)\n",
    "\t# calculate overall RMSE\n",
    "\ts = 0\n",
    "\tfor row in range(actual.shape[0]):\n",
    "\t\tfor col in range(actual.shape[1]):\n",
    "\t\t\ts += (actual[row, col] - predicted[row, col])**2\n",
    "\tscore = sqrt(s / (actual.shape[0] * actual.shape[1]))\n",
    "\treturn score, scores\n",
    "\n",
    "# summarize scores\n",
    "def summarize_scores(name, score, scores):\n",
    "\ts_scores = ', '.join(['%.1f' % s for s in scores])\n",
    "\tprint('%s: [%.3f] %s' % (name, score, s_scores))\n",
    "\n",
    "# evaluate a single model\n",
    "def evaluate_model(model_func, train, test):\n",
    "\t# history is a list of weekly data\n",
    "\thistory = [x for x in train]\n",
    "\t# walk-forward validation over each week\n",
    "\tpredictions = list()\n",
    "\tfor i in range(len(test)):\n",
    "\t\t# predict the week\n",
    "\t\tyhat_sequence = model_func(history)\n",
    "\t\t# store the predictions\n",
    "\t\tpredictions.append(yhat_sequence)\n",
    "\t\t# get real observation and add to history for predicting the next week\n",
    "\t\thistory.append(test[i, :])\n",
    "\tpredictions = array(predictions)\n",
    "\t# evaluate predictions days for each week\n",
    "\tscore, scores = evaluate_forecasts(test[:, :, 0], predictions)\n",
    "\treturn score, scores\n",
    "\n",
    "# daily persistence model\n",
    "def daily_persistence(history):\n",
    "\t# get the data for the prior week\n",
    "\tlast_week = history[-1]\n",
    "\t# get the total active power for the last day\n",
    "\tvalue = last_week[-1, 0]\n",
    "\t# prepare 7 day forecast\n",
    "\tforecast = [value for _ in range(7)]\n",
    "\treturn forecast\n",
    "\n",
    "# weekly persistence model\n",
    "def weekly_persistence(history):\n",
    "\t# get the data for the prior week\n",
    "\tlast_week = history[-1]\n",
    "\treturn last_week[:, 0]\n",
    "\n",
    "# week one year ago persistence model\n",
    "def week_one_year_ago_persistence(history):\n",
    "\t# get the data for the prior week\n",
    "\tlast_week = history[-52]\n",
    "\treturn last_week[:, 0]\n",
    "\n",
    "# load the new file\n",
    "dataset = read_csv('household_power_consumption_days.csv', header=0, infer_datetime_format=True, parse_dates=['datetime'], index_col=['datetime'])\n",
    "# split into train and test\n",
    "train, test = split_dataset(dataset.values)\n",
    "# define the names and functions for the models we wish to evaluate\n",
    "models = dict()\n",
    "models['daily'] = daily_persistence\n",
    "models['weekly'] = weekly_persistence\n",
    "models['week-oya'] = week_one_year_ago_persistence\n",
    "# evaluate each model\n",
    "days = ['sun', 'mon', 'tue', 'wed', 'thr', 'fri', 'sat']\n",
    "for name, func in models.items():\n",
    "\t# evaluate and get scores\n",
    "\tscore, scores = evaluate_model(func, train, test)\n",
    "\t# summarize scores\n",
    "\tsummarize_scores(name, score, scores)\n",
    "\t# plot scores\n",
    "\tpyplot.plot(days, scores, marker='o', label=name)\n",
    "# show plot\n",
    "pyplot.legend()\n",
    "pyplot.show()"
   ]
  },
  {
   "cell_type": "markdown",
   "metadata": {},
   "source": [
    "Running the example first prints the total and daily scores for each model. We can see that the weekly strategy performs better than the daily strategy and that the week one year ago (week-oya) performs slightly better again. We can see this in both the overall RMSE scores for each model and in the daily scores for each forecast day. One exception is the forecast error for the first day (Sunday) where it appears that the daily persistence model performs better than the two weekly strategies. We can use the week-oya strategy with an overall RMSE of 465.294 kilowatts as the baseline in performance for more sophisticated models to be considered skillful on this specific framing of the problem. \n",
    "\n",
    "\n",
    "A line plot of the daily forecast error is also created. We can see the same observed pattern of the weekly strategies performing better than the daily strategy in general, except in the case of the first day. It is surprising (to me) that the week one-year-ago performs better than using the prior week. I would have expected that the power consumption from last week to be more relevant. "
   ]
  },
  {
   "cell_type": "markdown",
   "metadata": {},
   "source": [
    "## 17.7 Further Reading\n",
    "This section provides more resources on the topic if you are looking to go deeper.\n",
    "- pandas.read csv API.https://pandas.pydata.org/pandas-docs/stable/generated/pandas.read_csv.html\n",
    "- numpy.split API. https://docs.scipy.org/doc/numpy/reference/generated/numpy.split.html\n",
    "- pandas.DataFrame.resample API. https://pandas.pydata.org/pandas-docs/stable/generated/pandas.DataFrame.resample.html\n",
    "- Resample Offset Aliases. http://pandas.pydata.org/pandas-docs/stable/timeseries.html#offset-aliases\n",
    "- sklearn.metrics.mean squared error API. http://scikit-learn.org/stable/modules/generated/sklearn.metrics.mean_squared_error.html"
   ]
  },
  {
   "cell_type": "markdown",
   "metadata": {},
   "source": [
    "## 17.8 Summary\n",
    "In this tutorial, you discovered how to develop a test harness for the household power consumption dataset and evaluate three naive forecast strategies that provide a baseline for more sophisticated algorithms. Specifically, you learned:\n",
    "- How to load, prepare, and downsample the household power consumption dataset ready for modeling.\n",
    "- How to develop metrics, dataset split, and walk-forward validation elements for a robust test harness for evaluating forecasting models.\n",
    "- How to develop and evaluate and compare the performance a suite of naive persistence forecasting methods."
   ]
  }
 ],
 "metadata": {
  "kernelspec": {
   "display_name": "Python 3",
   "language": "python",
   "name": "python3"
  },
  "language_info": {
   "codemirror_mode": {
    "name": "ipython",
    "version": 3
   },
   "file_extension": ".py",
   "mimetype": "text/x-python",
   "name": "python",
   "nbconvert_exporter": "python",
   "pygments_lexer": "ipython3",
   "version": "3.7.3"
  }
 },
 "nbformat": 4,
 "nbformat_minor": 2
}
