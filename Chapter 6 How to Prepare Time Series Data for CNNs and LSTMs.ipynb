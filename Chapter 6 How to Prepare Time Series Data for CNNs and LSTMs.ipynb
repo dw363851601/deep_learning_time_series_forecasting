{
 "cells": [
  {
   "cell_type": "markdown",
   "metadata": {},
   "source": [
    "## 6.2 Time Series to Supervised "
   ]
  },
  {
   "cell_type": "markdown",
   "metadata": {},
   "source": [
    "A time series must be transformed into samples with input and output components. \n",
    "For a univariate time series problem where we are interested in one-step predictions, the observations at prior time steps, so-called lag observations, are used as input and the output is the observation at the current time step. \n",
    "\n",
    "X, &emsp;&emsp;&emsp;    y <br>\n",
    "[1, 2, 3], [4] <br>\n",
    "[2, 3, 4], [5] <br>\n",
    "[3, 4, 5], [6] <br>"
   ]
  },
  {
   "cell_type": "markdown",
   "metadata": {},
   "source": [
    "The __split sequence()__ function below implements this behavior and will split a given univariate sequence into multiple samples where each sample has a specified number of time steps and the output is a single time step."
   ]
  },
  {
   "cell_type": "code",
   "execution_count": 3,
   "metadata": {},
   "outputs": [
    {
     "name": "stdout",
     "output_type": "stream",
     "text": [
      "(10,)\n",
      "(7, 3) (7,)\n",
      "[1 2 3] 4\n",
      "[2 3 4] 5\n",
      "[3 4 5] 6\n",
      "[4 5 6] 7\n",
      "[5 6 7] 8\n",
      "[6 7 8] 9\n",
      "[7 8 9] 10\n"
     ]
    }
   ],
   "source": [
    "from numpy import array \n",
    "# split a univariate sequence into samples\n",
    "def split_sequence(sequence, n_steps):\n",
    "    X, y = [], []\n",
    "    for i in range(len(sequence)):\n",
    "        # find the end of this pattern \n",
    "        end_idx = i + n_steps \n",
    "        # check if we are beyond the sequence\n",
    "        if end_idx > len(sequence) - 1:\n",
    "            break \n",
    "            \n",
    "        # gather input and output parts of the pattern \n",
    "        seq_x, seq_y = sequence[i:end_idx], sequence[end_idx]\n",
    "        X.append(seq_x)\n",
    "        y.append(seq_y)\n",
    "        \n",
    "    return array(X), array(y)\n",
    "\n",
    "# define univariate time series \n",
    "series = array([1, 2, 3, 4, 5, 6, 7, 8, 9, 10])\n",
    "print(series.shape)\n",
    "# transform to a supervised learning problem \n",
    "X, y = split_sequence(series, 3)\n",
    "print(X.shape, y.shape)\n",
    "for i in range(len(X)):\n",
    "    print(X[i], y[i])"
   ]
  },
  {
   "cell_type": "markdown",
   "metadata": {},
   "source": [
    "- Feature: A column in a dataset, such as a lag observation for a time series dataset.\n",
    "- Sample: A row in a dataset, such as an input and output sequence for a time series dataset."
   ]
  },
  {
   "cell_type": "markdown",
   "metadata": {},
   "source": [
    "## 6.3 3D Data Preparation Basics"
   ]
  },
  {
   "cell_type": "markdown",
   "metadata": {},
   "source": [
    "The input layer for CNN and LSTM models is specified by the input shape argument on the first hidden layer of the network. The input to every CNN and LSTM layer must be three-dimensional. The three dimensions of this input are:\n",
    "- Samples. One sequence is one sample. A batch is comprised of one or more samples.\n",
    "- Time Steps. One time step is one point of observation in the sample. One sample is comprised of multiple time steps.\n",
    "- Features. One feature is one observation at a time step. One time step is comprised of one or more features.\n",
    "\n",
    "This expected three-dimensional structure of input data is often summarized using the array shape notation of: [samples, timesteps, features]."
   ]
  },
  {
   "cell_type": "code",
   "execution_count": 4,
   "metadata": {},
   "outputs": [
    {
     "name": "stdout",
     "output_type": "stream",
     "text": [
      "(10,)\n",
      "(7, 3) (7,)\n",
      "(7, 3, 1)\n"
     ]
    }
   ],
   "source": [
    "# define univariate time series\n",
    "series = array([1, 2, 3, 4, 5, 6, 7, 8, 9, 10])\n",
    "print(series.shape)\n",
    "# transform to a supervised learning problem\n",
    "X, y = split_sequence(series, 3)\n",
    "print(X.shape, y.shape)\n",
    "# transform input from [samples, features] to [samples, timesteps, features]\n",
    "X = X.reshape((X.shape[0], X.shape[1], 1))\n",
    "print(X.shape)"
   ]
  },
  {
   "cell_type": "markdown",
   "metadata": {},
   "source": [
    "## 6.4 Data Preparation Example"
   ]
  },
  {
   "cell_type": "markdown",
   "metadata": {},
   "source": [
    "There are few problems here:\n",
    "- Data Shape. LSTMs expect 3D input, and it can be challenging to get your head around this the first time.\n",
    "- Sequence Length. LSTMs don’t like sequences of more than 200-400 time steps, so the data will need to be split into subsamples.\n",
    "\n",
    "The LSTM needs data with the format of [samples, timesteps, features]. We have 25 samples, 200 time steps per sample, and 1 feature. we can use the reshape() function to add one additional dimension for our single feature and use the existing columns as time steps instead."
   ]
  },
  {
   "cell_type": "code",
   "execution_count": 7,
   "metadata": {},
   "outputs": [
    {
     "name": "stdout",
     "output_type": "stream",
     "text": [
      "(25, 200, 1)\n"
     ]
    }
   ],
   "source": [
    "# example of creating a 3d array of subsequences \n",
    "from numpy import array \n",
    "\n",
    "# define the dataset \n",
    "data = []\n",
    "n = 5000 \n",
    "\n",
    "for i in range(n):\n",
    "    data.append([i+1, (i+1)*10])\n",
    "data = array(data)\n",
    "\n",
    "# drop time \n",
    "data = data[:,1]\n",
    "# split into samples (e.g. 5000/200 = 25)\n",
    "samples = []\n",
    "length = 200 \n",
    "# step over the 5,000 in jumps of 200 \n",
    "for i in range(0, n, length):\n",
    "    # grab from i to i + 200 \n",
    "    sample = data[i:i+length]\n",
    "    samples.append(sample)\n",
    "    \n",
    "# convert list of arrays into 2d array\n",
    "data = array(samples)\n",
    "# reshape into [samples, timesteps, features]\n",
    "data = data.reshape((len(samples), length, 1))\n",
    "print(data.shape)"
   ]
  },
  {
   "cell_type": "markdown",
   "metadata": {},
   "source": [
    "## 6.6 Further Reading\n",
    "This section provides more resources on the topic if you are looking to go deeper.\n",
    "- numpy.reshape API.(https://docs.scipy.org/doc/numpy/reference/generated/numpy.reshape.html)\n",
    "- Keras Recurrent Layers API in Keras. (https://keras.io/layers/recurrent/)\n",
    "- Keras Convolutional Layers API in Keras. https://keras.io/layers/convolutional/"
   ]
  },
  {
   "cell_type": "markdown",
   "metadata": {},
   "source": [
    "## 6.7 Summary\n",
    "In this tutorial, you discovered exactly how to transform a time series data set into a three- dimensional structure ready for fitting a CNN or LSTM model.\n",
    "Specifically, you learned:\n",
    "- How to transform a time series dataset into a two-dimensional supervised learning format.\n",
    "- How to transform a two-dimensional time series dataset into a three-dimensional structure suitable for CNNs and LSTMs.\n",
    "- How to step through a worked example of splitting a very long time series into subsequences ready for training a CNN or LSTM model."
   ]
  }
 ],
 "metadata": {
  "kernelspec": {
   "display_name": "Python 3",
   "language": "python",
   "name": "python3"
  },
  "language_info": {
   "codemirror_mode": {
    "name": "ipython",
    "version": 3
   },
   "file_extension": ".py",
   "mimetype": "text/x-python",
   "name": "python",
   "nbconvert_exporter": "python",
   "pygments_lexer": "ipython3",
   "version": "3.6.8"
  }
 },
 "nbformat": 4,
 "nbformat_minor": 2
}
